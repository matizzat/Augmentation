{
  "cells": [
    {
      "cell_type": "markdown",
      "source": [
        "<div align=\"right\"><i>William Quiroga y Matías Torres Esteban<br>Agosto, 2025</i></div>\n",
        "\n",
        "# Aumentación de Datos con Grandes Modelos de Lenguaje\n",
        "\n",
        "En el año 2020, nuestro grupo de investigación participó en el Proyecto de Transferencia de Tecnología: “BillMobile: un prototipo de chatbot basado en IA para mejorar la calidad de experiencia del cliente”. Como resultado, se obtuvo una colección de preguntas relacionadas con el Régimen de Monotributo de la Administración Federal de Ingresos Públicos (AFIP). Durante el proyecto, se aplicaron diversos enfoques de aprendizaje automático, incluyendo modelos basados en Transformers.\n",
        "\n",
        "A pesar de haberse desarrollado un estudio integral, uno de los principales desafíos fue la **cantidad limitada de ejemplos por clase en la colección de preguntas**, lo que restringió el desempeño de los modelos entrenados.\n",
        "\n",
        "Proponemos diseñar una estrategia de aumentación de datos utilizando modelos generativos actuales para ampliar la colección original de preguntas. El objetivo es generar nuevas muestras  que enriquezcan el conjunto de datos en cada una de las clases definidas durante el proceso de etiquetado.\n",
        "\n",
        "*  Formular prompts optimizados para generar nuevas preguntas sintéticas, cuidando que estén alineadas semánticamente con cada categoría.\n",
        "*   Utilizar los resultados obtenidos en la Notebook anterior para ajustar y refinar dichos prompts, priorizando la calidad y relevancia de las muestras generadas.\n",
        "\n",
        "### Taxonomía de Preguntas\n",
        "\n",
        "Esta taxonomía clasifica los tipos de preguntas para facilitar la organización y el análisis de la información. Cada categoría describe el tipo de respuesta esperada y ofrece ejemplos claros.*\n",
        "\n",
        "---\n",
        "1. **DEFINICIÓN**\n",
        "\n",
        "**Descripción:** Preguntas que buscan respuestas descriptivas y conceptuales. Apuntan a la definición de un concepto.\n",
        "\n",
        "**Ejemplos:**\n",
        "\n",
        "¿Qué es...?\n",
        "\n",
        "¿Qué se entiende por...?\n",
        "\n",
        "¿Cuál es la diferencia entre...?\n",
        "\n",
        "---\n",
        "2. **REFERENCIA**\n",
        "\n",
        "**Descripción:** Preguntas que requieren referencias simples, excluyendo ubicación geográfica, expresiones temporales y entidades específicas.\n",
        "\n",
        "**Ejemplos:**\n",
        "\n",
        "¿Cuál es el número de teléfono / página web /...?\n",
        "\n",
        "¿Dónde consultar...? (en qué sitio web)\n",
        "\n",
        "¿Cuáles son las categorías vigentes? (ref. a página web / documentación)\n",
        "\n",
        "¿Qué comprobante emite un monotributista? (se indica tipo de comprobante)\n",
        "\n",
        "¿Qué letra deben contener los remitos? (se indica tipo de letra)\n",
        "\n",
        "---\n",
        "3. **UBICACIÓN**\n",
        "\n",
        "**Descripción:** Preguntas que solicitan una referencia a una ubicación geográfica.\n",
        "\n",
        "**Ejemplos:**\n",
        "\n",
        "¿Dónde debo solicitar el CUIT? (en qué dependencia de AFIP - ubicación geográfica)\n",
        "\n",
        "---\n",
        "4. **TEMPORAL**\n",
        "\n",
        "**Descripción:** Preguntas que hacen referencia a un tiempo, intervalo o periodo particular.\n",
        "\n",
        "**Ejemplos:**\n",
        "\n",
        "¿A partir de cuándo...?\n",
        "\n",
        "¿Cuándo se debe realizar el primer pago...?\n",
        "\n",
        "---\n",
        "5. **ENTIDAD**\n",
        "\n",
        "**Descripción:** Preguntas que buscan una referencia a una entidad (persona, institución, organismo, etc.).\n",
        "\n",
        "**Ejemplos:**\n",
        "\n",
        "¿Cuáles son las entidades bancarias habilitadas para...?\n",
        "\n",
        "---\n",
        "6. **RAZÓN**\n",
        "\n",
        "**Descripción:** Preguntas que indagan sobre razones, condiciones, casos o excepciones que conforman una causa. Apuntan a entender una causa que luego deriva en un efecto (relación de causalidad).\n",
        "\n",
        "**Ejemplos:**\n",
        "\n",
        "¿En qué casos los monotributistas no se encuentran obligados a...? (casos de excepción)\n",
        "\n",
        "¿Cuáles son los requisitos para inscribirse a...? (condiciones)\n",
        "\n",
        "¿Quiénes pueden ser monotributistas? (condiciones para acceder al régimen)\n",
        "\n",
        "---\n",
        "7. **PROCEDIMIENTO**\n",
        "\n",
        "**Descripción:** Preguntas que esperan respuestas prescriptivas o instructivas, incluyendo una sucesión de pasos explícitos con dependencia entre sí.\n",
        "\n",
        "**Ejemplos:**\n",
        "\n",
        "¿Cómo es el procedimiento para darme de baja?\n",
        "\n",
        "¿Cuáles son los pasos para recategorizarme?\n",
        "\n",
        "---\n",
        "8. **MANERA**\n",
        "\n",
        "**Descripción:** Preguntas sobre formas, maneras, opciones o parámetros para realizar una determinada acción. Involucran respuestas descriptivas que apuntan a la explicación general de cómo realizar una actividad.\n",
        "\n",
        "**Ejemplos:**\n",
        "\n",
        "¿Qué formas de pago tengo para...? (opciones de pago)\n",
        "\n",
        "¿Cuáles son los parámetros considerados para recategorizar? (parámetros para efectuar el trámite)\n",
        "\n",
        "De realizar más de una actividad como monotributista, ¿cómo se determina cuál es la principal? (forma para determinar una actividad principal)\n",
        "\n",
        "¿Cuál es el tratamiento aplicable a los condominios? (formas de adhesión)\n",
        "\n",
        "---\n",
        "9. **CANTIDAD**\n",
        "\n",
        "**Descripción:** Preguntas que buscan la cantidad o el monto de un determinado concepto.\n",
        "\n",
        "**Ejemplos:**\n",
        "\n",
        "¿Cuál es el precio máximo unitario de venta?\n",
        "\n",
        "---\n",
        "10. **SI/NO**\n",
        "\n",
        "**Descripción:** Preguntas que requieren una respuesta booleana (SI o NO).\n",
        "\n",
        "**Ejemplos:**\n",
        "\n",
        "¿Se puede...?\n",
        "\n",
        "¿Estoy obligado a...?"
      ],
      "metadata": {
        "id": "eJri4XdRi4CN"
      }
    },
    {
      "cell_type": "markdown",
      "source": [
        "### El Proceso\n",
        "\n",
        "En el siguiente trozo de código importamos las funciones\n",
        "necesarias para realizar el ejercicio y establecemos las configuraciones generales. Ustedes deberían modificar el nombre del modelo de lenguaje si hiciera falta."
      ],
      "metadata": {
        "id": "mcY-4f1_Zutg"
      }
    },
    {
      "cell_type": "code",
      "execution_count": null,
      "metadata": {
        "id": "IqyorGsZX-cW"
      },
      "outputs": [],
      "source": [
        "from aumentacion import *\n",
        "\n",
        "labels = [\n",
        "    'cantidad',\n",
        "    'definicion',\n",
        "    'entidad',\n",
        "    'manera',\n",
        "    'procedimiento',\n",
        "    'razon',\n",
        "    'referencia',\n",
        "    'si_no',\n",
        "    'temporal',\n",
        "    'ubicacion'\n",
        "]\n",
        "\n",
        "dataset_path = './dataset.csv'\n",
        "template_path = './template.txt'\n",
        "augmented_set_path = './augmented_set.csv'\n",
        "classifier_path = './classifier'\n",
        "\n",
        "llm_data = {\n",
        "    'url': \"http://localhost:1234/v1/chat/completions\",\n",
        "    'llm_name': 'mistralai/mistral-7b-instruct-v0.3'\n",
        "}"
      ]
    },
    {
      "cell_type": "markdown",
      "source": [
        "Aquí cargamos el lote de datos original, la plantilla del prompt e invocamos al modelo de lenguaje para que aumente nuestro conjunto de datos."
      ],
      "metadata": {
        "id": "sUDAxJ4opQFG"
      }
    },
    {
      "cell_type": "code",
      "execution_count": null,
      "metadata": {
        "id": "ADY6OzeAX-cX"
      },
      "outputs": [],
      "source": [
        "dataset = load_dataset(dataset_path, labels)\n",
        "template = get_file_content(template_path)\n",
        "\n",
        "llm_answers = ask_llm_to_augment(labels, dataset, template, llm_data)\n",
        "augmented_set = parse_llm_answers(llm_answers)\n",
        "save_as_csv(augmented_set, augmented_set_path)"
      ]
    },
    {
      "cell_type": "markdown",
      "metadata": {
        "id": "8immIvG7X-cX"
      },
      "source": [
        "Cargamos el lote de datos aumentado y evaluamos que tan buena fue la aumentación."
      ]
    },
    {
      "cell_type": "code",
      "execution_count": null,
      "metadata": {
        "id": "iXmAiRVtX-cY"
      },
      "outputs": [],
      "source": [
        "augmented_set = load_augmented_set(augmented_set_path)\n",
        "\n",
        "predictions = ask_classifier_to_predict(classifier_path, labels, augmented_set['question'])\n",
        "eval_augmented_set(augmented_set['label'], predictions)"
      ]
    }
  ],
  "metadata": {
    "colab": {
      "provenance": []
    },
    "kernelspec": {
      "display_name": "Python 3 (ipykernel)",
      "language": "python",
      "name": "python3"
    },
    "language_info": {
      "codemirror_mode": {
        "name": "ipython",
        "version": 3
      },
      "file_extension": ".py",
      "mimetype": "text/x-python",
      "name": "python",
      "nbconvert_exporter": "python",
      "pygments_lexer": "ipython3",
      "version": "3.12.9"
    }
  },
  "nbformat": 4,
  "nbformat_minor": 0
}
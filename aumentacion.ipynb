{
  "cells": [
    {
      "cell_type": "markdown",
      "source": [
        "Ejercicio: *Aumentación de Datos con Modelos Generativos en el Dominio del Monotributo (AFIP)*\n",
        "\n",
        "En el año 2020, nuestro grupo de investigación participó en el Proyecto de Transferencia de Tecnología: “BillMobile: un prototipo de chatbot basado en IA para mejorar la calidad de experiencia del cliente”. Como resultado, se obtuvo una colección de preguntas relacionadas con el Régimen de Monotributo de la Administración Federal de Ingresos Públicos (AFIP). Durante el proyecto, se aplicaron diversos enfoques de aprendizaje automático, incluyendo modelos basados en Transformers.\n",
        "\n",
        "A pesar de haberse desarrollado un estudio integral, uno de los principales desafíos fue la **cantidad limitada de ejemplos por clase en la colección de preguntas**, lo que restringió el desempeño de los modelos entrenados.\n",
        "\n",
        "Actividad propuesta:\n",
        "Diseñar una estrategia de aumentación de datos utilizando modelos generativos actuales para ampliar la colección original de preguntas. El objetivo es generar nuevas muestras  que enriquezcan el conjunto de datos en cada una de las clases definidas durante el proceso de etiquetado.\n",
        "\n",
        "*  Formular prompts optimizados para generar nuevas preguntas sintéticas, cuidando que estén alineadas semánticamente con cada categoría.\n",
        "*   Utilizar los resultados obtenidos en la Notebook anterior para ajustar y refinar dichos prompts, priorizando la calidad y relevancia de las muestras generadas."
      ],
      "metadata": {
        "id": "lg9yMU1vYTk1"
      }
    },
    {
      "cell_type": "markdown",
      "metadata": {
        "id": "TQL-IZGPX-cU"
      },
      "source": [
        "# Parte 1: Aumentación de Datos"
      ]
    },
    {
      "cell_type": "markdown",
      "source": [
        "Primero extraemos los recursos desde Github (Datos y Prompts)"
      ],
      "metadata": {
        "id": "mcY-4f1_Zutg"
      }
    },
    {
      "cell_type": "code",
      "source": [
        "!git clone https://github.com/matizzat/Augmentation"
      ],
      "metadata": {
        "id": "KnuENiflZt1P"
      },
      "execution_count": null,
      "outputs": []
    },
    {
      "cell_type": "markdown",
      "source": [
        "Cambiamos al directorio donde tenemos los recursos"
      ],
      "metadata": {
        "id": "2c4UxCLzaQuJ"
      }
    },
    {
      "cell_type": "code",
      "source": [
        "%cd Augmentation"
      ],
      "metadata": {
        "id": "ksCCWd1WYe3-",
        "outputId": "1b2bd3fc-7824-4033-9f91-96f8c47913a9",
        "colab": {
          "base_uri": "https://localhost:8080/"
        }
      },
      "execution_count": 6,
      "outputs": [
        {
          "output_type": "stream",
          "name": "stdout",
          "text": [
            "/content/Augmentation\n"
          ]
        }
      ]
    },
    {
      "cell_type": "markdown",
      "source": [
        "Instalamos la librería SetFit"
      ],
      "metadata": {
        "id": "W-OJMfoJaqfE"
      }
    },
    {
      "cell_type": "code",
      "source": [
        "!pip install setfit"
      ],
      "metadata": {
        "id": "_TrG7TzWawmT"
      },
      "execution_count": null,
      "outputs": []
    },
    {
      "cell_type": "code",
      "execution_count": 9,
      "metadata": {
        "id": "IqyorGsZX-cW"
      },
      "outputs": [],
      "source": [
        "from aumentacion import *\n",
        "\n",
        "labels = [\n",
        "    'cantidad',\n",
        "    'definicion',\n",
        "    'entidad',\n",
        "    'manera',\n",
        "    'procedimiento',\n",
        "    'razon',\n",
        "    'referencia',\n",
        "    'si_no',\n",
        "    'temporal',\n",
        "    'ubicacion'\n",
        "]\n",
        "\n",
        "dataset_path = './dataset.csv'\n",
        "template_path = './template.txt'\n",
        "augmented_set_path = './augmented_set.csv'\n",
        "classifier_path = './classifier'\n",
        "\n",
        "llm_data = {\n",
        "    'url': \"http://localhost:1234/v1/chat/completions\",\n",
        "    'llm_name': 'mistralai/mistral-7b-instruct-v0.3'\n",
        "}"
      ]
    },
    {
      "cell_type": "code",
      "execution_count": null,
      "metadata": {
        "id": "ADY6OzeAX-cX"
      },
      "outputs": [],
      "source": [
        "dataset = load_dataset(dataset_path, labels)\n",
        "template = get_file_content(template_path)\n",
        "\n",
        "llm_answers = ask_llm_to_augment(labels, dataset, template, llm_data)\n",
        "augmented_set = parse_llm_answers(llm_answers)\n",
        "save_as_csv(augmented_set, augmented_set_path)"
      ]
    },
    {
      "cell_type": "markdown",
      "metadata": {
        "id": "8immIvG7X-cX"
      },
      "source": [
        "# Parte 2: Evaluación del Conjunto"
      ]
    },
    {
      "cell_type": "code",
      "execution_count": null,
      "metadata": {
        "id": "iXmAiRVtX-cY"
      },
      "outputs": [],
      "source": [
        "augmented_set = load_augmented_set(augmented_set_path)\n",
        "\n",
        "predictions = ask_classifier_to_predict(classifier_path, labels, augmented_set['question'])\n",
        "eval_augmented_set(augmented_set['label'], predictions)"
      ]
    }
  ],
  "metadata": {
    "colab": {
      "provenance": []
    },
    "kernelspec": {
      "display_name": "Python 3 (ipykernel)",
      "language": "python",
      "name": "python3"
    },
    "language_info": {
      "codemirror_mode": {
        "name": "ipython",
        "version": 3
      },
      "file_extension": ".py",
      "mimetype": "text/x-python",
      "name": "python",
      "nbconvert_exporter": "python",
      "pygments_lexer": "ipython3",
      "version": "3.12.9"
    }
  },
  "nbformat": 4,
  "nbformat_minor": 0
}
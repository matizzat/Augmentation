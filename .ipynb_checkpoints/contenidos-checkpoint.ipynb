{
 "cells": [
  {
   "cell_type": "markdown",
   "id": "26625a6e-76fd-4a2a-9bfe-b175bfc4d931",
   "metadata": {},
   "source": [
    "# Tabla de Contenidos\n",
    "\n",
    "* [Aumento de datos con Grandes Modelos de Lenguaje](./aumento.ipynb)\n",
    "* [Creación de Grafos de Conocimiento](./conocimiento.ipynb)"
   ]
  }
 ],
 "metadata": {
  "kernelspec": {
   "display_name": "Python 3 (ipykernel)",
   "language": "python",
   "name": "python3"
  },
  "language_info": {
   "codemirror_mode": {
    "name": "ipython",
    "version": 3
   },
   "file_extension": ".py",
   "mimetype": "text/x-python",
   "name": "python",
   "nbconvert_exporter": "python",
   "pygments_lexer": "ipython3",
   "version": "3.13.5"
  }
 },
 "nbformat": 4,
 "nbformat_minor": 5
}
